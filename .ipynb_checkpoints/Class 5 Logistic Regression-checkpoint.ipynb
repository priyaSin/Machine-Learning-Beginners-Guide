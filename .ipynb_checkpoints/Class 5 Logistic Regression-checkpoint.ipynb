{
 "cells": [
  {
   "cell_type": "markdown",
   "metadata": {},
   "source": [
    "## Apply Linear Regression for Classification\n",
    "### Applying linear regression changing the features = x1^2 , x2^2 , x3^2 and .. on Diabetes and Iris dataset"
   ]
  },
  {
   "cell_type": "code",
   "execution_count": null,
   "metadata": {
    "collapsed": true
   },
   "outputs": [],
   "source": []
  },
  {
   "cell_type": "markdown",
   "metadata": {},
   "source": [
    "## Logistic Regression\n",
    "\n",
    "#### Unlike the name, Logistic regression is a classification algorithm. The equation of logistic regression ia same as the equation of linear regression ( m1.x1 + m2.x2 + m3.x3 + m4.x4 + .... + b ). The only difference is that predicted values of logisic regression are either 0 or 1. This happens due to the core function working at the heart of this algorithm, called, **sigmoid function** ( also called logistic function ).\n",
    "#### The **sigmoid function** can be represented as follows :\n",
    "\n",
    "<img src = \"1.png\">\n",
    "\n",
    "#### In the above figure, Z = ( m1.x1 + m2.x2 + m3.x3 + m4.x4 + .... + b )\n"
   ]
  },
  {
   "cell_type": "code",
   "execution_count": null,
   "metadata": {
    "collapsed": true
   },
   "outputs": [],
   "source": []
  }
 ],
 "metadata": {
  "kernelspec": {
   "display_name": "Python 3",
   "language": "python",
   "name": "python3"
  },
  "language_info": {
   "codemirror_mode": {
    "name": "ipython",
    "version": 3
   },
   "file_extension": ".py",
   "mimetype": "text/x-python",
   "name": "python",
   "nbconvert_exporter": "python",
   "pygments_lexer": "ipython3",
   "version": "3.6.2"
  }
 },
 "nbformat": 4,
 "nbformat_minor": 2
}
