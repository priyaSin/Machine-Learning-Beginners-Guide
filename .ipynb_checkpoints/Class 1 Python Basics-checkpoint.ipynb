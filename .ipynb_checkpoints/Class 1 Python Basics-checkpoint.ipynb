{
 "cells": [
  {
   "cell_type": "markdown",
   "metadata": {},
   "source": [
    "# Numbers"
   ]
  },
  {
   "cell_type": "code",
   "execution_count": 20,
   "metadata": {},
   "outputs": [
    {
     "name": "stdout",
     "output_type": "stream",
     "text": [
      "(1+32j)\n"
     ]
    },
    {
     "data": {
      "text/plain": [
       "complex"
      ]
     },
     "execution_count": 20,
     "metadata": {},
     "output_type": "execute_result"
    }
   ],
   "source": [
    "a = 10 \n",
    "a = 2.5\n",
    "a = 2 + 3j #you can assign complex numbers in this way\n",
    "b = 4+5j\n",
    "a = a+2\n",
    "print(a*b)\n",
    "type(a) #type of the variable"
   ]
  },
  {
   "cell_type": "code",
   "execution_count": 21,
   "metadata": {},
   "outputs": [
    {
     "name": "stdout",
     "output_type": "stream",
     "text": [
      "1.5\n",
      "1\n"
     ]
    }
   ],
   "source": [
    "a = 3\n",
    "b = 2\n",
    "print(a/b) #by default gives float output\n",
    "print(a//b) # to get an integer output"
   ]
  },
  {
   "cell_type": "code",
   "execution_count": 22,
   "metadata": {},
   "outputs": [
    {
     "name": "stdout",
     "output_type": "stream",
     "text": [
      "Type of \"a\"  <class 'str'>\n",
      "Length of \"a\"  5\n",
      "First character of the string  P\n",
      "Access last character of the string by index -1 -  a\n",
      "sriya\n",
      "sriya\n"
     ]
    }
   ],
   "source": [
    "a = \"Priya\" \n",
    "a = 'Priya'\n",
    "#Both are python strings, no diff between single quotes and double quotes which means that Char type does not exist in Python\n",
    "print(\"Type of \\\"a\\\" \"  , type(a))\n",
    "print(\"Length of \\\"a\\\" \" ,  len(a))\n",
    "print(\"First character of the string \" , a[0])\n",
    "print(\"Access last character of the string by index -1 - \" , a[-1])\n",
    "\n",
    "\n",
    "#a[0] = \"S\"\n",
    "#The above is not allowed since Strings are immutable in Python\n",
    "\n",
    "a = \"s\" + a[1:5]  #But we can use string slicing having \"start index : end index\"\n",
    "#Start index and end index both are optional \n",
    "#If start index is not specified - by default 0 is taken\n",
    "#If end index is not specified - by default endIndex +1  is taken \n",
    "#Below is the example\n",
    "print(a[:])\n",
    "print(a)"
   ]
  },
  {
   "cell_type": "code",
   "execution_count": 23,
   "metadata": {},
   "outputs": [
    {
     "data": {
      "text/plain": [
       "'sriyasriya'"
      ]
     },
     "execution_count": 23,
     "metadata": {},
     "output_type": "execute_result"
    }
   ],
   "source": [
    "a*2\n",
    "#Multiplication operator concatenates the same string by the number provided"
   ]
  },
  {
   "cell_type": "code",
   "execution_count": 24,
   "metadata": {},
   "outputs": [
    {
     "data": {
      "text/plain": [
       "'sriya'"
      ]
     },
     "execution_count": 24,
     "metadata": {},
     "output_type": "execute_result"
    }
   ],
   "source": [
    "a.lower() #to convert to lower case"
   ]
  },
  {
   "cell_type": "code",
   "execution_count": 25,
   "metadata": {},
   "outputs": [
    {
     "data": {
      "text/plain": [
       "'SRIYA'"
      ]
     },
     "execution_count": 25,
     "metadata": {},
     "output_type": "execute_result"
    }
   ],
   "source": [
    "a.upper() #to convert to upper case"
   ]
  },
  {
   "cell_type": "code",
   "execution_count": 26,
   "metadata": {},
   "outputs": [
    {
     "data": {
      "text/plain": [
       "'sriya  ,'"
      ]
     },
     "execution_count": 26,
     "metadata": {},
     "output_type": "execute_result"
    }
   ],
   "source": [
    "a = \"   \" + a + \"  ,  \"\n",
    "a.strip() #removes the white space in the **beginning and end** of the string only"
   ]
  },
  {
   "cell_type": "code",
   "execution_count": 27,
   "metadata": {},
   "outputs": [
    {
     "data": {
      "text/plain": [
       "False"
      ]
     },
     "execution_count": 27,
     "metadata": {},
     "output_type": "execute_result"
    }
   ],
   "source": [
    "a.isalpha() # to check if the string only contains alphabets"
   ]
  },
  {
   "cell_type": "code",
   "execution_count": 28,
   "metadata": {},
   "outputs": [
    {
     "data": {
      "text/plain": [
       "False"
      ]
     },
     "execution_count": 28,
     "metadata": {},
     "output_type": "execute_result"
    }
   ],
   "source": [
    "a.isdigit() # to check if the string contain digits"
   ]
  },
  {
   "cell_type": "markdown",
   "metadata": {},
   "source": [
    "In computer programming, a delimiter is a character that identifies the beginning or the end of a character string (a contiguous sequence of characters). The delimiting character is not part of the character string."
   ]
  },
  {
   "cell_type": "code",
   "execution_count": 29,
   "metadata": {},
   "outputs": [
    {
     "name": "stdout",
     "output_type": "stream",
     "text": [
      "When no delimiter is specified ['ab', ',', 'cd', ',', 'ef', ',', 'gh']\n",
      "When delimiter \",\" is specified [' ab ', ' cd ', ' ef ', ' gh ']\n"
     ]
    }
   ],
   "source": [
    "a = \" ab , cd , ef , gh \"\n",
    "b = a.split()\n",
    "print(\"When no delimiter is specified\" , b)\n",
    "b = a.split(\",\") # to split the string around commas\n",
    "print(\"When delimiter \\\",\\\" is specified\" , b )\n",
    "#When no delimiter is given, default is space"
   ]
  },
  {
   "cell_type": "code",
   "execution_count": 30,
   "metadata": {},
   "outputs": [
    {
     "name": "stdout",
     "output_type": "stream",
     "text": [
      " ab , cd , ef , gh \n"
     ]
    },
    {
     "data": {
      "text/plain": [
       "list"
      ]
     },
     "execution_count": 30,
     "metadata": {},
     "output_type": "execute_result"
    }
   ],
   "source": [
    "#Let us recreate the string \"a\"\n",
    "print(\",\".join(b))\n",
    "#Python - Arrays are called lists\n",
    "type(b)"
   ]
  },
  {
   "cell_type": "code",
   "execution_count": 31,
   "metadata": {},
   "outputs": [
    {
     "name": "stdout",
     "output_type": "stream",
     "text": [
      "3\n",
      "3\n",
      "Type of \"a\"  <class 'str'>\n",
      "Type of \"b\"  <class 'int'>\n"
     ]
    }
   ],
   "source": [
    "a = input() #To take input from the user and returns a string\n",
    "b = int(input()) #converting string to integer at the time of taking an input\n",
    "print(\"Type of \\\"a\\\" \" , type(a))\n",
    "print(\"Type of \\\"b\\\" \", type(b))\n"
   ]
  },
  {
   "cell_type": "markdown",
   "metadata": {},
   "source": [
    "##### Difference between tuples and lists\n",
    "https://www.csestack.org/difference-tuple-list-python/"
   ]
  },
  {
   "cell_type": "code",
   "execution_count": 32,
   "metadata": {},
   "outputs": [
    {
     "name": "stdout",
     "output_type": "stream",
     "text": [
      "<class 'tuple'>\n",
      "(1, 2, 3, 'Priya', 3, 5)\n",
      "(1, 2, 3, 'Priya', 1, 2, 3, 'Priya', 1, 2, 3, 'Priya')\n"
     ]
    },
    {
     "data": {
      "text/plain": [
       "True"
      ]
     },
     "execution_count": 32,
     "metadata": {},
     "output_type": "execute_result"
    }
   ],
   "source": [
    "#TUPLES\n",
    "a = (1, 2, 3 , \"Priya\")\n",
    "b = (3, 5)\n",
    "#Tuples are immutable like a string, otherwise all the access methods are same as that of lists.\n",
    "print(type(a))\n",
    "print(a+b)\n",
    "print(a*3) # Multiplication Operator duplicates the tuples items specified number of times\n",
    "1 in a #returns a boolean, effectively asks \"is 1 in a\""
   ]
  },
  {
   "cell_type": "markdown",
   "metadata": {},
   "source": [
    "# List"
   ]
  },
  {
   "cell_type": "code",
   "execution_count": 33,
   "metadata": {},
   "outputs": [
    {
     "data": {
      "text/plain": [
       "[2, 4, 4]"
      ]
     },
     "execution_count": 33,
     "metadata": {},
     "output_type": "execute_result"
    }
   ],
   "source": [
    "a = [2, 3, 4]\n",
    "#Array Slicing (same as strings)\n",
    "#Lists are mutable\n",
    "a[1] = 4\n",
    "a"
   ]
  },
  {
   "cell_type": "code",
   "execution_count": 34,
   "metadata": {},
   "outputs": [
    {
     "data": {
      "text/plain": [
       "range(0, 10)"
      ]
     },
     "execution_count": 34,
     "metadata": {},
     "output_type": "execute_result"
    }
   ],
   "source": [
    "#Range function gives a range of values \n",
    "range(10) #from 0 to 9 with a jump of 1"
   ]
  },
  {
   "cell_type": "code",
   "execution_count": 35,
   "metadata": {},
   "outputs": [
    {
     "name": "stdout",
     "output_type": "stream",
     "text": [
      "3\n",
      "5\n",
      "7\n",
      "9\n"
     ]
    }
   ],
   "source": [
    "#For loops\n",
    "for i in range(3, 10 , 2): #will go from 3 to 9 with a jump of 2 \n",
    "    print(i)"
   ]
  },
  {
   "cell_type": "code",
   "execution_count": 36,
   "metadata": {},
   "outputs": [
    {
     "name": "stdout",
     "output_type": "stream",
     "text": [
      "[0, 0, 0, 0, 0, 0, 0, 0, 0, 0]\n"
     ]
    }
   ],
   "source": [
    "a = [0 for i in range(10)] # Alternate way to form an array!\n",
    "print(a)"
   ]
  },
  {
   "cell_type": "code",
   "execution_count": 40,
   "metadata": {},
   "outputs": [
    {
     "data": {
      "text/plain": [
       "[0, 2, 4, 6, 8, 10, 12, 14, 16, 18]"
      ]
     },
     "execution_count": 40,
     "metadata": {},
     "output_type": "execute_result"
    }
   ],
   "source": [
    "a = [2*i for i in range(10)]\n",
    "a\n"
   ]
  },
  {
   "cell_type": "code",
   "execution_count": 41,
   "metadata": {},
   "outputs": [
    {
     "name": "stdout",
     "output_type": "stream",
     "text": [
      "[0, 2, 4, 6, 8, 10, 12, 14, 16, 18, 1]\n",
      "[100, 0, 2, 4, 6, 8, 10, 12, 14, 16, 18, 1]\n",
      "[100, 0, 200, 2, 4, 6, 8, 10, 12, 14, 16, 18, 1]\n"
     ]
    }
   ],
   "source": [
    "a.insert(len(a) , 1) \n",
    "#Insert function takes the index at which the value has to be inserted and the value whcih has to be inserted\n",
    "print(a)\n",
    "a.insert(0 , 100)\n",
    "print(a)\n",
    "a.insert(2 , 200)\n",
    "print(a)"
   ]
  },
  {
   "cell_type": "code",
   "execution_count": 42,
   "metadata": {},
   "outputs": [
    {
     "data": {
      "text/plain": [
       "False"
      ]
     },
     "execution_count": 42,
     "metadata": {},
     "output_type": "execute_result"
    }
   ],
   "source": [
    "3 in a"
   ]
  },
  {
   "cell_type": "code",
   "execution_count": 43,
   "metadata": {},
   "outputs": [
    {
     "name": "stdout",
     "output_type": "stream",
     "text": [
      "100\n",
      "0\n",
      "200\n",
      "2\n",
      "4\n",
      "6\n",
      "8\n",
      "10\n",
      "12\n",
      "14\n",
      "16\n",
      "18\n",
      "1\n"
     ]
    }
   ],
   "source": [
    "#Index function will return the index of the element to be searched if found \n",
    "for i in a :\n",
    "    print(i) #Fast iteration over an array "
   ]
  },
  {
   "cell_type": "markdown",
   "metadata": {},
   "source": [
    "# Dictionary - contains key value pairs"
   ]
  },
  {
   "cell_type": "code",
   "execution_count": 44,
   "metadata": {},
   "outputs": [
    {
     "data": {
      "text/plain": [
       "{'abc': 'def', 'age': 7, (1, 2): 7}"
      ]
     },
     "execution_count": 44,
     "metadata": {},
     "output_type": "execute_result"
    }
   ],
   "source": [
    "a = {} #define a disctionary\n",
    "a = {'abc' : \"def\" , \"age\" : 7 , (1,2) : 7} # corresponding key value pairs \n",
    "\n",
    "a\n",
    "#We cannot put list as a key in a dictionary as list are muttable and can be changed and it breaks the rule that keys can be modified"
   ]
  },
  {
   "cell_type": "code",
   "execution_count": 45,
   "metadata": {},
   "outputs": [
    {
     "data": {
      "text/plain": [
       "dict_keys(['abc', 'age', (1, 2)])"
      ]
     },
     "execution_count": 45,
     "metadata": {},
     "output_type": "execute_result"
    }
   ],
   "source": [
    "#To access all the keys\n",
    "a.keys()"
   ]
  },
  {
   "cell_type": "code",
   "execution_count": 46,
   "metadata": {},
   "outputs": [
    {
     "name": "stdout",
     "output_type": "stream",
     "text": [
      "abc\n",
      "age\n",
      "(1, 2)\n"
     ]
    }
   ],
   "source": [
    "for i in a.keys():\n",
    "    print(i)"
   ]
  },
  {
   "cell_type": "code",
   "execution_count": 47,
   "metadata": {},
   "outputs": [
    {
     "data": {
      "text/plain": [
       "\"{'abc': 'def', 'age': 7, (1, 2): 7}\""
      ]
     },
     "execution_count": 47,
     "metadata": {},
     "output_type": "execute_result"
    }
   ],
   "source": [
    "str(a) #to convert a dictionary to a string (generally used in order to store it in a file)"
   ]
  },
  {
   "cell_type": "code",
   "execution_count": 48,
   "metadata": {},
   "outputs": [
    {
     "name": "stdout",
     "output_type": "stream",
     "text": [
      "abc\n",
      "age\n",
      "(1, 2)\n"
     ]
    }
   ],
   "source": [
    "for i in a : #fast iteration \n",
    "    print(i)"
   ]
  },
  {
   "cell_type": "code",
   "execution_count": 49,
   "metadata": {},
   "outputs": [
    {
     "data": {
      "text/plain": [
       "dict_values(['def', 7, 7])"
      ]
     },
     "execution_count": 49,
     "metadata": {},
     "output_type": "execute_result"
    }
   ],
   "source": [
    "#To get all the values\n",
    "a.values()"
   ]
  },
  {
   "cell_type": "code",
   "execution_count": 50,
   "metadata": {},
   "outputs": [
    {
     "name": "stdout",
     "output_type": "stream",
     "text": [
      "Yes\n"
     ]
    }
   ],
   "source": [
    "if (2==2):\n",
    "    print(\"Yes\")"
   ]
  },
  {
   "cell_type": "code",
   "execution_count": 51,
   "metadata": {},
   "outputs": [
    {
     "name": "stdout",
     "output_type": "stream",
     "text": [
      "No\n"
     ]
    }
   ],
   "source": [
    "#Conditional statement\n",
    "if (2==1):\n",
    "    print(\"Yes\")\n",
    "elif(2==2) :\n",
    "    print(\"No\")\n",
    "else:\n",
    "    print(\"Yes\")"
   ]
  },
  {
   "cell_type": "code",
   "execution_count": 52,
   "metadata": {},
   "outputs": [
    {
     "name": "stdout",
     "output_type": "stream",
     "text": [
      "5\n",
      "1\n",
      "2\n",
      "3\n",
      "4\n",
      "5\n",
      "\n",
      "1\n",
      "2\n",
      "3\n",
      "4\n",
      "5\n"
     ]
    }
   ],
   "source": [
    "#Loops in Python\n",
    "n = int(input())\n",
    "#For Loop\n",
    "for i in range(n):\n",
    "    print(i+1)\n",
    "\n",
    "print()\n",
    "i = 0\n",
    "#While Loop \n",
    "while(i<n):\n",
    "    i = i + 1\n",
    "    print(i)"
   ]
  },
  {
   "cell_type": "code",
   "execution_count": 31,
   "metadata": {},
   "outputs": [
    {
     "name": "stdout",
     "output_type": "stream",
     "text": [
      "0 : 1\n",
      "1 : 2\n",
      "2 : 3\n",
      "3 : 4\n",
      "4 : 5\n"
     ]
    }
   ],
   "source": [
    "#We want index along with values given at that index\n",
    "a = [1,2,3,4,5]\n",
    "for i in range(len(a)):\n",
    "    print( i , \":\" , a[i])\n",
    "    #print(str[i] + \":\" + str(a[i]))\n",
    "    "
   ]
  },
  {
   "cell_type": "code",
   "execution_count": 53,
   "metadata": {},
   "outputs": [
    {
     "name": "stdout",
     "output_type": "stream",
     "text": [
      "7\n",
      "Prime\n"
     ]
    }
   ],
   "source": [
    "#Program to check if a number is Prime or not Prime.\n",
    "n = int(input())\n",
    "flag = True\n",
    "for i in range(2, n):\n",
    "    if(n % i == 0):\n",
    "        print(\"Not Prime\")\n",
    "        flag = False\n",
    "        break\n",
    "if flag == True:\n",
    "    print(\"Prime\")"
   ]
  },
  {
   "cell_type": "code",
   "execution_count": 33,
   "metadata": {},
   "outputs": [
    {
     "data": {
      "text/plain": [
       "[1, 2, 3, 4, 5, 6, 7, 8, 9, 10]"
      ]
     },
     "execution_count": 33,
     "metadata": {},
     "output_type": "execute_result"
    }
   ],
   "source": [
    "#Program for Bubble Sort\n",
    "n = 10\n",
    "a = [n-i for i in range(n)]\n",
    "for j in range(n):\n",
    "    for i in range(n-1 -j):\n",
    "        if a [i] > a [i+1]:\n",
    "            k = a[i]\n",
    "            a[i] = a[i+1]\n",
    "            a[i+1] =k\n",
    "a"
   ]
  },
  {
   "cell_type": "code",
   "execution_count": 34,
   "metadata": {},
   "outputs": [
    {
     "name": "stdout",
     "output_type": "stream",
     "text": [
      "1\n"
     ]
    }
   ],
   "source": [
    "a , b, c = 1 , 2, 3 #We can assign values to multiple variables in one go\n",
    "print(a)\n"
   ]
  },
  {
   "cell_type": "code",
   "execution_count": 35,
   "metadata": {},
   "outputs": [
    {
     "name": "stdout",
     "output_type": "stream",
     "text": [
      "18\n",
      "14\n",
      "12\n",
      "13\n"
     ]
    }
   ],
   "source": [
    "#Giving default values to the parameters\n",
    "def sum(a, b ,c = 10 , d=3):\n",
    "    return a + b + c + d\n",
    "print(sum(2,3))\n",
    "print(sum(2, 3, 4, 5))\n",
    "print(sum (2 ,3 ,4))\n",
    "print(sum(2 ,3 , d = 3 , c = 5 ))\n",
    "#NOTE\n",
    "#You cannot miss a default argument in between two default arguments.\n",
    "#def sum(a, b = 3 ,c  , d=3): <---- This is not allowed."
   ]
  },
  {
   "cell_type": "code",
   "execution_count": null,
   "metadata": {
    "collapsed": true
   },
   "outputs": [],
   "source": [
    "def power(a, b = 2): \n",
    "    return a ** b\n",
    "power(3)\n",
    "\n",
    "def sq(a, b):\n",
    "    return a * a, b * b #Returning two values from a function in the form of a tuple\n",
    "\n",
    "a = sq(2,3)[0]\n",
    "print(a)\n",
    "print(type(a))\n",
    "print(b)"
   ]
  },
  {
   "cell_type": "code",
   "execution_count": 36,
   "metadata": {},
   "outputs": [
    {
     "name": "stdout",
     "output_type": "stream",
     "text": [
      "(3, 4, 5, 6)\n"
     ]
    }
   ],
   "source": [
    "#Specifying variable number of arguements\n",
    "def sum1(a , b , *other):\n",
    "    print(other)\n",
    "sum1(1 , 2, 3, 4, 5, 6)"
   ]
  },
  {
   "cell_type": "code",
   "execution_count": 55,
   "metadata": {},
   "outputs": [
    {
     "name": "stdout",
     "output_type": "stream",
     "text": [
      "[[1, 2, 3], [3, 4, 5], 3]\n"
     ]
    }
   ],
   "source": [
    "#2-d arrays\n",
    "ab = [[1,2,3] , [3,4,5] , 3]  # a list can have differnt data types inside of it\n",
    "print(ab)"
   ]
  },
  {
   "cell_type": "code",
   "execution_count": 56,
   "metadata": {},
   "outputs": [
    {
     "data": {
      "text/plain": [
       "['h', 'e', 'l', 'l', 'o', ' ', 'P', 'r', 'i', 'y', 'a']"
      ]
     },
     "execution_count": 56,
     "metadata": {},
     "output_type": "execute_result"
    }
   ],
   "source": [
    "a = list(\"hello Priya\") #list function can take atmost one argument\n",
    "a"
   ]
  },
  {
   "cell_type": "code",
   "execution_count": 39,
   "metadata": {},
   "outputs": [
    {
     "name": "stdout",
     "output_type": "stream",
     "text": [
      "False\n"
     ]
    }
   ],
   "source": [
    "#Comparing two dictionaries\n",
    "#For two dictionaries to be equal, corresponding key and value pairs must be the same\n",
    "dict1 = {2:3 , 4:5}\n",
    "dict2 = {1:3 , 4:5}\n",
    "print(dict1 == dict2)"
   ]
  },
  {
   "cell_type": "code",
   "execution_count": 40,
   "metadata": {
    "collapsed": true
   },
   "outputs": [],
   "source": [
    "#NOT AND OR - Logical Operators (Precedence in this order only)\n"
   ]
  },
  {
   "cell_type": "code",
   "execution_count": 41,
   "metadata": {},
   "outputs": [
    {
     "name": "stdout",
     "output_type": "stream",
     "text": [
      "x\n"
     ]
    }
   ],
   "source": [
    "a = \"abc\"\n",
    "a = \"x\"\n",
    "print(a)"
   ]
  },
  {
   "cell_type": "code",
   "execution_count": 42,
   "metadata": {},
   "outputs": [
    {
     "name": "stdout",
     "output_type": "stream",
     "text": [
      "5\n",
      "1 2 3 4 5 \n",
      "\n",
      "11 12 13 14 15 \n",
      "\n",
      "21 22 23 24 25 \n",
      "16 17 18 19 20 \n",
      "6 7 8 9 10 \n"
     ]
    }
   ],
   "source": [
    "# Pattern Question (assignment 1)\n",
    "#Print the following pattern for the given number of rows.\n",
    "#Pattern for N = 5\n",
    "# 1    2   3    4   5\n",
    "# 11   12  13   14  15\n",
    "# 21   22  23   24  25\n",
    "# 16   17  18   19  20\n",
    "# 6    7    8   9   10\n",
    "\n",
    "n = int(input())\n",
    "\n",
    "for i in range(n):\n",
    "    for j in range(n):\n",
    "        if(i % 2 == 0):\n",
    "            print( n * i + j +1 , end = \" \")\n",
    "    print()\n",
    "if(n%2 != 0):\n",
    "    i = i-1\n",
    "while i > 0:\n",
    "    for j in range(n):\n",
    "        if(i % 2 !=0):\n",
    "            print( n * i + j +1 , end = \" \")\n",
    "    i=i-2\n",
    "    print()"
   ]
  },
  {
   "cell_type": "code",
   "execution_count": 43,
   "metadata": {},
   "outputs": [
    {
     "name": "stdout",
     "output_type": "stream",
     "text": [
      "7\n",
      "2 13 4 1 3 6 28\n",
      "[1, 2, 3, 4, 6, 13, 28]\n"
     ]
    }
   ],
   "source": [
    "#Selection Sort\n",
    "\n",
    "n = int(input())\n",
    "a = input()\n",
    "a = a.strip()\n",
    "a = a.split(\" \")\n",
    "a = list(map(int , a))\n",
    "\n",
    "for i in range(len(a)):\n",
    "    indxsmallest = i\n",
    "    for j in range(i , len(a)) :\n",
    "        if(a[indxsmallest] > a[j]):\n",
    "            indxsmallest = j\n",
    "    a[indxsmallest] , a[i] = a[i] , a[indxsmallest]\n",
    "    \n",
    "print(a)"
   ]
  },
  {
   "cell_type": "code",
   "execution_count": 17,
   "metadata": {},
   "outputs": [
    {
     "name": "stdout",
     "output_type": "stream",
     "text": [
      "Mango is raw\n",
      "Mango is raw\n",
      "ognaM si war \n"
     ]
    }
   ],
   "source": [
    "# Reverse each word\n",
    "s = input()\n",
    "s = s.strip()\n",
    "a = list(s.split(\" \"))\n",
    "newS = \"\"\n",
    "for x in a:\n",
    "    newS = newS + x[: : -1] + \" \"\n",
    "print(s)\n",
    "print(newS)"
   ]
  },
  {
   "cell_type": "code",
   "execution_count": 57,
   "metadata": {},
   "outputs": [
    {
     "name": "stdout",
     "output_type": "stream",
     "text": [
      "2 3 4 5 6 6 7 8 8 9 9 9\n",
      "['2', '3', '4', '5', '6', '6', '7', '8', '8', '9', '9', '9']\n",
      "[2, 3, 4, 5, 6, 6, 7, 8, 8, 9, 9, 9]\n",
      "4 5 6 \n",
      "6 7 8 \n",
      "row121\n"
     ]
    }
   ],
   "source": [
    "# Two - d array formation\n",
    "s = input() #A String is taken in input\n",
    "s = s.strip() #Removes the white spaces at the beginning and end of the string only\n",
    "s = s.split(\" \") #Splitting happens at whitespace\n",
    "print(s)\n",
    "a = list(map(int , s)) #Mapping each element of the list(which is string in this case) to integers\n",
    "print(a)\n",
    "a = [ [a[j + a[1]*i + 2] for j in range(a[1])] for i in range(a[0])]\n",
    "for l in a:\n",
    "    for x in l:\n",
    "        print(x , end = \" \")\n",
    "    print()\n",
    "\n",
    "#Check largest sum row or column (Question from assignment)\n",
    "largeSum = sum(a[0])\n",
    "flag = True\n",
    "for i in range(len(a)):\n",
    "    if(sum(a[i]) > largeSum):\n",
    "        largeindex = i\n",
    "        largeSum = sum(a[i])\n",
    "\n",
    "for i in range(len(a[0])):\n",
    "    add = 0\n",
    "    for j in range(len(a)):\n",
    "        add = add + a[j][i]\n",
    "    if(largeSum < add):\n",
    "        flag = False\n",
    "        largeSum = add\n",
    "        largeindex = i\n",
    "if(flag):\n",
    "    print(\"row\"+ str(largeindex)+ str(largeSum))\n",
    "else:\n",
    "    print(\"column\",largeindex,largeSum)\n",
    "\n",
    "        "
   ]
  },
  {
   "cell_type": "code",
   "execution_count": 65,
   "metadata": {},
   "outputs": [
    {
     "name": "stdout",
     "output_type": "stream",
     "text": [
      " 4 4 1 2 3 4 5 6 7 8 9 10 11 12 13 14 15 16\n",
      "1 2 3 4 \n",
      "5 6 7 8 \n",
      "9 10 11 12 \n",
      "13 14 15 16 \n",
      "1\n",
      "2\n",
      "3\n",
      "4\n",
      "8\n",
      "12\n",
      "16\n",
      "15\n",
      "14\n",
      "13\n",
      "9\n",
      "5\n",
      "6\n",
      "7\n",
      "11\n",
      "10\n"
     ]
    }
   ],
   "source": [
    "#Print Spiral\n",
    "s = input()\n",
    "s = s.strip()\n",
    "a = s.split(\" \")\n",
    "a = list(map(int , a))\n",
    "\n",
    "a = [ [a[ j + 2 + a[1]*i ] for j in range(a[1])] for i in range(a[0])]\n",
    "rowStart = 0\n",
    "rowEnd = len(a)\n",
    "colStart = 0\n",
    "colEnd = len(a[0])\n",
    "\n",
    "\n",
    "for l in a:\n",
    "    for x in l:\n",
    "        print(x , end = \" \")\n",
    "    print()\n",
    "        \n",
    "        \n",
    "while(rowStart < rowEnd and colStart<colEnd):\n",
    "    for i in range(colStart , colEnd):\n",
    "        print(a[rowStart] [i])\n",
    "    rowStart +=1\n",
    "    for i in range(rowStart , rowEnd):\n",
    "        print(a[i][colEnd-1])\n",
    "    colEnd -=1\n",
    "    for i in range(colEnd-1 , colStart-1 , -1):\n",
    "        print(a[rowEnd-1][i])\n",
    "    rowEnd -=1\n",
    "    for i in range(rowEnd-1 , rowStart-1 , -1):\n",
    "        print(a[i][colStart])\n",
    "    colStart +=1\n",
    "\n"
   ]
  },
  {
   "cell_type": "code",
   "execution_count": 61,
   "metadata": {},
   "outputs": [
    {
     "name": "stdout",
     "output_type": "stream",
     "text": [
      "10\n",
      "9\n",
      "8\n",
      "7\n",
      "6\n"
     ]
    }
   ],
   "source": [
    "for i in range(10 , 5 , -1): #Using range fucntion creating a list in decreasing order\n",
    "    print(i)"
   ]
  },
  {
   "cell_type": "code",
   "execution_count": 10,
   "metadata": {
    "collapsed": true
   },
   "outputs": [],
   "source": [
    "import matplotlib.pyplot as plt\n",
    "from matplotlib import style"
   ]
  },
  {
   "cell_type": "code",
   "execution_count": 13,
   "metadata": {},
   "outputs": [
    {
     "data": {
      "image/png": "[encoded data removed]",
      "text/plain": [
       "<matplotlib.figure.Figure at 0x109bc2a20>"
      ]
     },
     "metadata": {},
     "output_type": "display_data"
    }
   ],
   "source": [
    "x=[5,8,10]\n",
    "y=[10,1,20] #here it is a straight line , can be anything\n",
    "plt.plot(x,y) #plots the x and y and on calling show, and join the lines through the points\n",
    "plt.plot(x,y,linewidth=5) #can give linewidth value to the plots\n",
    "plt.plot(x2,y2, label=\"Value2\") #x2 y2 two data sets , label can be given and on calling lengend() labels will show up\n",
    "plt.legend()\n",
    "# plt.scatter(x,y) only plot the points and not join them\n",
    "plt.title(\"demo\") #gives a title to the plot\n",
    "plt.xlabel(\"X\") #gives name to x axis\n",
    "plt.ylabel(\"Y\") #gves name to y axis\n",
    "plt.show()"
   ]
  }
 ],
 "metadata": {
  "kernelspec": {
   "display_name": "Python 3",
   "language": "python",
   "name": "python3"
  },
  "language_info": {
   "codemirror_mode": {
    "name": "ipython",
    "version": 3
   },
   "file_extension": ".py",
   "mimetype": "text/x-python",
   "name": "python",
   "nbconvert_exporter": "python",
   "pygments_lexer": "ipython3",
   "version": "3.6.2"
  }
 },
 "nbformat": 4,
 "nbformat_minor": 2
}
