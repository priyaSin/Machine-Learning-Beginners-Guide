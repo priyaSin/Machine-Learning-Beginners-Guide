{
 "cells": [
  {
   "cell_type": "code",
   "execution_count": 2,
   "metadata": {
    "collapsed": true
   },
   "outputs": [],
   "source": [
    "import numpy as np\n",
    "import matplotlib.pyplot as plt\n",
    "import random"
   ]
  },
  {
   "cell_type": "markdown",
   "metadata": {},
   "source": [
    "### Consider below a curve for Cost Function vs m or b (Only for understanding)\n",
    "<img src=\"download.png\">"
   ]
  },
  {
   "cell_type": "markdown",
   "metadata": {},
   "source": [
    "### GRADIENT DESCENT\n",
    "Here we do not differentiate and find value of m and b as in the last case because as the number of features \n",
    "(x1,x2,x3....xn) increases, finding the value of m and b becomes complex.\n",
    "So in gradient descent we try to each the minimum value of the cost function by descending below\n",
    "In the above graph we are considering **CF=(summation((yActual-(mx+b)^2))/N\n",
    "Here m and b constitutes weights. So in linearRegression for the equation of n variables we have n+1 weights\n",
    "The Process works as:\n",
    "(1) Finding the gradient or the slope of at the given m and b, to know the slope,more is the slope more fall we can       achieve without Overshooting.\n",
    "(2) Finding the value of new m and b using:\n",
    "    new_m = m_current -(learningRate*m_gradient)\n",
    "    new_b = b_current -(learningRate*b_gradient)\n",
    "    learning rate is the step length to which we have to fall\n",
    "(3) for new m and b,we do the same thing again for a num of iterations to reach the min value of cost function\n",
    "\n",
    "Reaching the min value depends on two factors:\n",
    "(1) Number of iterations\n",
    "(2) Value of cost function doesnt change much with iteration\n"
   ]
  },
  {
   "cell_type": "code",
   "execution_count": 9,
   "metadata": {
    "collapsed": true
   },
   "outputs": [],
   "source": [
    "#Finding the step gradient or del(E)/del(m) and del(E)/del(b) for finding new m and b\n",
    "def step_gradient(b_current,m_current,points,learningRate):\n",
    "    b_gradient=0\n",
    "    m_gradient=0\n",
    "    N=len(points)\n",
    "    for i in range(0,N):\n",
    "        x=points[i,0]\n",
    "        y=points[i,1]\n",
    "        b_gradient += -(2/N)*(y-(m_current*x+b_current))\n",
    "        m_gradient += -(2/N)*(y-(m_current*x+b_current))*x\n",
    "    new_m = m_current -(learningRate*m_gradient)\n",
    "    new_b = b_current -(learningRate*b_gradient)\n",
    "    return [new_b,new_m]\n"
   ]
  },
  {
   "cell_type": "code",
   "execution_count": 10,
   "metadata": {
    "collapsed": true
   },
   "outputs": [],
   "source": [
    "# Finding the predicted values for x test that is y predict\n",
    "def predict(x,b,m):\n",
    "    y_pred=m*x+b\n",
    "    return y_pred"
   ]
  },
  {
   "cell_type": "code",
   "execution_count": 31,
   "metadata": {
    "collapsed": true
   },
   "outputs": [],
   "source": [
    "#Here finding m and b for a number of iterations and descending the graph\n",
    "def gradient_descent_runner(points,starting_b,starting_m,learningRate,num_iterations):\n",
    "    points= np.genfromtxt(\"data.csv\",delimiter=\",\")#points is a 2 d array with x and y\n",
    "    b=starting_b\n",
    "    m=starting_m\n",
    "    #making 2 1D array from slicing,required for plotiing later\n",
    "    y_initial=points[:,1]\n",
    "    x_initial=points[:,0]\n",
    "    costList = []\n",
    "    costMList = []\n",
    "    for i in range(num_iterations):\n",
    "        b,m=step_gradient(b,m,points,learningRate)\n",
    "        #The if block is for showing the plotting of the curve for the current value of m and b\n",
    "        if i%2==0:\n",
    "            y_pred=predict(x_initial,b,m)\n",
    "            costList.append (cost_function(m , b, points))\n",
    "            costMList.append (i)\n",
    "            plt.scatter(x_initial,y_initial)\n",
    "            plt.plot(x_initial,y_pred)\n",
    "            plt.show()\n",
    "    plt.scatter(costMList , costList)\n",
    "    plt.plot(costMList , costList)\n",
    "    plt.show()\n",
    "    return [m,b]    "
   ]
  },
  {
   "cell_type": "code",
   "execution_count": 32,
   "metadata": {
    "collapsed": true
   },
   "outputs": [],
   "source": [
    "def cost_function(m,b,points):\n",
    "    totalCost=0\n",
    "    for i in range(len(points)):\n",
    "        x=points[i,0]\n",
    "        y=points[i,1]\n",
    "        totalCost +=(y-(m*x+b))**2\n",
    "    return totalCost/len(points)    "
   ]
  },
  {
   "cell_type": "code",
   "execution_count": 59,
   "metadata": {
    "collapsed": true
   },
   "outputs": [],
   "source": [
    "def run():\n",
    "    points= np.genfromtxt(\"data.csv\",delimiter=\",\")\n",
    "    learningRate=0.0001\n",
    "    initial_b=0\n",
    "    initial_m=0\n",
    "    num_iterations=10\n",
    "    print(cost_function(initial_m,initial_b,points))\n",
    "    final_m,final_b=gradient_descent_runner(points,initial_b,initial_m,learningRate,num_iterations)\n",
    "    print (cost_function(final_m,final_b,points))\n",
    "    print(final_b,final_m)\n",
    "    return final_b,final_m #returning as have to use to calculate Ypredict"
   ]
  },
  {
   "cell_type": "code",
   "execution_count": null,
   "metadata": {
    "collapsed": true
   },
   "outputs": [],
   "source": []
  },
  {
   "cell_type": "code",
   "execution_count": 60,
   "metadata": {
    "collapsed": true
   },
   "outputs": [],
   "source": [
    "# Task was to plot a graph for final value of m and b\n",
    "points= np.genfromtxt(\"data.csv\",delimiter=\",\")\n",
    "y_initial=points[:,1]\n",
    "x_initial=points[:,0]\n",
    "#final_b,final_m=run()\n",
    "#y_pred=predict(x_initial,final_b,final_m)\n",
    "#plt.scatter(x_initial,y_initial)\n",
    "#plt.plot(x_initial,y_pred)\n",
    "#plt.show()\n"
   ]
  },
  {
   "cell_type": "code",
   "execution_count": null,
   "metadata": {
    "collapsed": true
   },
   "outputs": [],
   "source": []
  },
  {
   "cell_type": "code",
   "execution_count": 61,
   "metadata": {},
   "outputs": [
    {
     "name": "stdout",
     "output_type": "stream",
     "text": [
      "5565.10783448\n"
     ]
    },
    {
     "data": {
      "image/png": "[encoded data removed]",
      "text/plain": [
       "<matplotlib.figure.Figure at 0x1111a8128>"
      ]
     },
     "metadata": {},
     "output_type": "display_data"
    },
    {
     "data": {
      "image/png": "[encoded data removed]",
      "text/plain": [
       "<matplotlib.figure.Figure at 0x10691a6a0>"
      ]
     },
     "metadata": {},
     "output_type": "display_data"
    },
    {
     "data": {
      "image/png": "[encoded data removed]",
      "text/plain": [
       "<matplotlib.figure.Figure at 0x1111147b8>"
      ]
     },
     "metadata": {},
     "output_type": "display_data"
    },
    {
     "data": {
      "image/png": "[encoded data removed]",
      "text/plain": [
       "<matplotlib.figure.Figure at 0x106972400>"
      ]
     },
     "metadata": {},
     "output_type": "display_data"
    },
    {
     "data": {
      "image/png": "[encoded data removed]",
      "text/plain": [
       "<matplotlib.figure.Figure at 0x11159ef60>"
      ]
     },
     "metadata": {},
     "output_type": "display_data"
    },
    {
     "data": {
      "image/png": "[encoded data removed]",
      "text/plain": [
       "<matplotlib.figure.Figure at 0x1110772e8>"
      ]
     },
     "metadata": {},
     "output_type": "display_data"
    },
    {
     "name": "stdout",
     "output_type": "stream",
     "text": [
      "112.655851815\n",
      "0.0296393478747 1.47741737555\n"
     ]
    },
    {
     "data": {
      "text/plain": [
       "(0.029639347874732391, 1.4774173755483797)"
      ]
     },
     "execution_count": 61,
     "metadata": {},
     "output_type": "execute_result"
    }
   ],
   "source": [
    "run()"
   ]
  },
  {
   "cell_type": "code",
   "execution_count": null,
   "metadata": {
    "collapsed": true
   },
   "outputs": [],
   "source": []
  },
  {
   "cell_type": "code",
   "execution_count": 36,
   "metadata": {
    "collapsed": true
   },
   "outputs": [],
   "source": [
    "from sklearn import datasets"
   ]
  },
  {
   "cell_type": "code",
   "execution_count": 37,
   "metadata": {
    "collapsed": true
   },
   "outputs": [],
   "source": [
    "from sklearn.metrics import confusion_matrix "
   ]
  },
  {
   "cell_type": "code",
   "execution_count": 38,
   "metadata": {
    "collapsed": true
   },
   "outputs": [],
   "source": [
    "from sklearn.metrics import classification_report"
   ]
  },
  {
   "cell_type": "code",
   "execution_count": 39,
   "metadata": {
    "collapsed": true
   },
   "outputs": [],
   "source": [
    "iris= datasets.load_iris()"
   ]
  },
  {
   "cell_type": "code",
   "execution_count": 40,
   "metadata": {
    "collapsed": true
   },
   "outputs": [],
   "source": [
    "from sklearn.linear_model import LinearRegression\n"
   ]
  },
  {
   "cell_type": "code",
   "execution_count": 41,
   "metadata": {},
   "outputs": [
    {
     "name": "stderr",
     "output_type": "stream",
     "text": [
      "/Users/melon/anaconda3/lib/python3.6/site-packages/sklearn/cross_validation.py:44: DeprecationWarning: This module was deprecated in version 0.18 in favor of the model_selection module into which all the refactored classes and functions are moved. Also note that the interface of the new CV iterators are different from that of this module. This module will be removed in 0.20.\n",
      "  \"This module will be removed in 0.20.\", DeprecationWarning)\n"
     ]
    }
   ],
   "source": [
    "from sklearn import cross_validation as cv"
   ]
  },
  {
   "cell_type": "code",
   "execution_count": 42,
   "metadata": {
    "collapsed": true
   },
   "outputs": [],
   "source": [
    "X_Train,X_Test,Y_Train,Y_Test= cv.train_test_split(iris.data,iris.target,test_size=0.2)"
   ]
  },
  {
   "cell_type": "code",
   "execution_count": 43,
   "metadata": {
    "collapsed": true
   },
   "outputs": [],
   "source": [
    "clf=LinearRegression()"
   ]
  },
  {
   "cell_type": "code",
   "execution_count": 44,
   "metadata": {},
   "outputs": [
    {
     "data": {
      "text/plain": [
       "LinearRegression(copy_X=True, fit_intercept=True, n_jobs=1, normalize=False)"
      ]
     },
     "execution_count": 44,
     "metadata": {},
     "output_type": "execute_result"
    }
   ],
   "source": [
    "clf.fit(X_Train,Y_Train)"
   ]
  },
  {
   "cell_type": "code",
   "execution_count": 45,
   "metadata": {
    "collapsed": true
   },
   "outputs": [],
   "source": [
    "Y_pred=clf.predict(X_Test).astype(int) #.astype(int) is required as Ypred by default has tha type float and Y-Test is an int type\n",
    "#Y_Test"
   ]
  },
  {
   "cell_type": "code",
   "execution_count": 46,
   "metadata": {},
   "outputs": [
    {
     "data": {
      "text/plain": [
       "array([[11,  2,  0],\n",
       "       [ 0,  3, 10],\n",
       "       [ 0,  0,  4]])"
      ]
     },
     "execution_count": 46,
     "metadata": {},
     "output_type": "execute_result"
    }
   ],
   "source": [
    "confusion_matrix(Y_pred,Y_Test) "
   ]
  },
  {
   "cell_type": "markdown",
   "metadata": {},
   "source": [
    "#Confusion Matrix (Command not working for inserting images)\n",
    "<image src=\"confusion_matrix.png\">"
   ]
  },
  {
   "cell_type": "code",
   "execution_count": 47,
   "metadata": {},
   "outputs": [
    {
     "name": "stdout",
     "output_type": "stream",
     "text": [
      "             precision    recall  f1-score   support\n",
      "\n",
      "          0       0.85      1.00      0.92        11\n",
      "          1       0.23      0.60      0.33         5\n",
      "          2       1.00      0.29      0.44        14\n",
      "\n",
      "avg / total       0.82      0.60      0.60        30\n",
      "\n"
     ]
    }
   ],
   "source": [
    "print(classification_report(Y_Test,Y_pred))"
   ]
  },
  {
   "cell_type": "markdown",
   "metadata": {},
   "source": [
    "Better appraoch than above used approach:\n",
    "(1)Stochastic Gradient Descent- Learning Rate Changes According to Change in the value of th cost function\n",
    "   Means that as we are oing down the curve the step jumped is also decreasing\n",
    "   In the above code update:\n",
    "(2)MINI-BATCH GRADIENT DESCENT (MB-GD)\n",
    "(3)ADAM OPTIMISER"
   ]
  },
  {
   "cell_type": "markdown",
   "metadata": {},
   "source": [
    "Confusion Matrix for C1 C2 C3..Cn classifer\n",
    "     C1 C2 C3 C4\n",
    "   C1\n",
    "   C2\n",
    "   C3\n",
    "   C4\n",
    "For every classifier,calculate the result against a confusion matrix to check the accuracy\n",
    "A few terms to be noted:\n",
    "Accuracy= (TP+TN)/Total\n",
    "Sensitivity=TP/Positives\n",
    "Specificity=TN/Negatives\n",
    "Precision= True Positives/Total positives told by classifier\n",
    "         =TP/(TP+FP)\n",
    "Recall= TP/(TP+FN)\n",
    "TP=True Positives\n",
    "FN=False Negatives\n",
    "FP=False positives\n",
    "TN=True Negatives\n"
   ]
  },
  {
   "cell_type": "markdown",
   "metadata": {},
   "source": [
    "Three Methods for dividing the data for testing and training purposes\n",
    "(1) HoldOut(Fastest)=Keeping a part of data randomly with ourselves and traning the machine with tha rest of the data\n",
    "(2) Cross Validation= (K parameter) The data set is divided into k **exclusive** parts and keeping a part say D1 for testing and traning the machine on the rest of the data. Then keeping D2  for testing and training with the rest.\n",
    "This is the practical approach as all the data gets tested over the machine.\n",
    "The final score for training and testing is the mean of all the scores of the loop\n",
    "(3) BootStrap= In this methods k stes are made but they arent mutually exclusive"
   ]
  },
  {
   "cell_type": "markdown",
   "metadata": {
    "collapsed": true
   },
   "source": [
    "READ ABOUT\n",
    "Strasified Cross Validation\n",
    "Hold one out\n",
    "Classification Model \n",
    "Regression Model"
   ]
  },
  {
   "cell_type": "code",
   "execution_count": 48,
   "metadata": {
    "collapsed": true
   },
   "outputs": [],
   "source": [
    "from sklearn.model_selection import cross_val_score\n",
    "from sklearn.svm import SVC\n",
    "#iris dataset is classification model and hence "
   ]
  },
  {
   "cell_type": "code",
   "execution_count": 49,
   "metadata": {
    "collapsed": true
   },
   "outputs": [],
   "source": [
    "clf=SVC()\n",
    "clfR=LinearRegression()"
   ]
  },
  {
   "cell_type": "code",
   "execution_count": 50,
   "metadata": {},
   "outputs": [
    {
     "data": {
      "text/plain": [
       "0.32288342759973732"
      ]
     },
     "execution_count": 50,
     "metadata": {},
     "output_type": "execute_result"
    }
   ],
   "source": [
    "score=cross_val_score(clfR,iris.data,iris.target,cv=5)\n",
    "score.mean()"
   ]
  },
  {
   "cell_type": "code",
   "execution_count": 51,
   "metadata": {
    "collapsed": true
   },
   "outputs": [],
   "source": [
    "scores=cross_val_score(clf,iris.data,iris.target,cv=5)\n"
   ]
  },
  {
   "cell_type": "code",
   "execution_count": 52,
   "metadata": {},
   "outputs": [
    {
     "data": {
      "text/plain": [
       "array([ 0.96666667,  1.        ,  0.96666667,  0.96666667,  1.        ])"
      ]
     },
     "execution_count": 52,
     "metadata": {},
     "output_type": "execute_result"
    }
   ],
   "source": [
    "scores"
   ]
  },
  {
   "cell_type": "code",
   "execution_count": 53,
   "metadata": {},
   "outputs": [
    {
     "data": {
      "text/plain": [
       "0.98000000000000009"
      ]
     },
     "execution_count": 53,
     "metadata": {},
     "output_type": "execute_result"
    }
   ],
   "source": [
    "scores.mean()"
   ]
  },
  {
   "cell_type": "code",
   "execution_count": 54,
   "metadata": {
    "collapsed": true
   },
   "outputs": [],
   "source": [
    "#Plotting the curve?????"
   ]
  },
  {
   "cell_type": "code",
   "execution_count": 5,
   "metadata": {},
   "outputs": [
    {
     "data": {
      "image/png": "[encoded data removed]",
      "text/plain": [
       "<matplotlib.figure.Figure at 0x10c587748>"
      ]
     },
     "metadata": {},
     "output_type": "display_data"
    }
   ],
   "source": [
    "#For colouring the graph with different colors\n",
    "x=[1,2,3,4,5,6,7,8,9]\n",
    "y1=[2,4,6,8,10,12,14,16,18]\n",
    "y2 = [3,5,3,5,2,3,4,5,6]\n",
    "colors=['b', 'g', 'r', 'c', 'm', 'y', 'k', 'w']\n",
    "plt.scatter(x,y1,color=random.choice(colors))\n",
    "plt.plot(x,y1,color=random.choice(colors))\n",
    "plt.plot(x,y2,color=random.choice(colors))\n",
    "plt.show()\n"
   ]
  },
  {
   "cell_type": "code",
   "execution_count": 8,
   "metadata": {
    "collapsed": true
   },
   "outputs": [],
   "source": [
    "from sklearn import datasets\n",
    "import pandas as pd\n"
   ]
  },
  {
   "cell_type": "code",
   "execution_count": 21,
   "metadata": {},
   "outputs": [
    {
     "data": {
      "text/plain": [
       "numpy.ndarray"
      ]
     },
     "execution_count": 21,
     "metadata": {},
     "output_type": "execute_result"
    }
   ],
   "source": [
    "diabetes=datasets.load_diabetes()\n",
    "type(diabetes.data)"
   ]
  },
  {
   "cell_type": "code",
   "execution_count": 20,
   "metadata": {},
   "outputs": [
    {
     "data": {
      "text/html": [
       "<div>\n",
       "<style>\n",
       "    .dataframe thead tr:only-child th {\n",
       "        text-align: right;\n",
       "    }\n",
       "\n",
       "    .dataframe thead th {\n",
       "        text-align: left;\n",
       "    }\n",
       "\n",
       "    .dataframe tbody tr th {\n",
       "        vertical-align: top;\n",
       "    }\n",
       "</style>\n",
       "<table border=\"1\" class=\"dataframe\">\n",
       "  <thead>\n",
       "    <tr style=\"text-align: right;\">\n",
       "      <th></th>\n",
       "      <th>0</th>\n",
       "      <th>1</th>\n",
       "      <th>2</th>\n",
       "      <th>3</th>\n",
       "      <th>4</th>\n",
       "      <th>5</th>\n",
       "      <th>6</th>\n",
       "      <th>7</th>\n",
       "      <th>8</th>\n",
       "      <th>9</th>\n",
       "    </tr>\n",
       "  </thead>\n",
       "  <tbody>\n",
       "    <tr>\n",
       "      <th>0</th>\n",
       "      <td>0.038076</td>\n",
       "      <td>0.050680</td>\n",
       "      <td>0.061696</td>\n",
       "      <td>0.021872</td>\n",
       "      <td>-0.044223</td>\n",
       "      <td>-0.034821</td>\n",
       "      <td>-0.043401</td>\n",
       "      <td>-0.002592</td>\n",
       "      <td>0.019908</td>\n",
       "      <td>-0.017646</td>\n",
       "    </tr>\n",
       "    <tr>\n",
       "      <th>1</th>\n",
       "      <td>-0.001882</td>\n",
       "      <td>-0.044642</td>\n",
       "      <td>-0.051474</td>\n",
       "      <td>-0.026328</td>\n",
       "      <td>-0.008449</td>\n",
       "      <td>-0.019163</td>\n",
       "      <td>0.074412</td>\n",
       "      <td>-0.039493</td>\n",
       "      <td>-0.068330</td>\n",
       "      <td>-0.092204</td>\n",
       "    </tr>\n",
       "    <tr>\n",
       "      <th>2</th>\n",
       "      <td>0.085299</td>\n",
       "      <td>0.050680</td>\n",
       "      <td>0.044451</td>\n",
       "      <td>-0.005671</td>\n",
       "      <td>-0.045599</td>\n",
       "      <td>-0.034194</td>\n",
       "      <td>-0.032356</td>\n",
       "      <td>-0.002592</td>\n",
       "      <td>0.002864</td>\n",
       "      <td>-0.025930</td>\n",
       "    </tr>\n",
       "    <tr>\n",
       "      <th>3</th>\n",
       "      <td>-0.089063</td>\n",
       "      <td>-0.044642</td>\n",
       "      <td>-0.011595</td>\n",
       "      <td>-0.036656</td>\n",
       "      <td>0.012191</td>\n",
       "      <td>0.024991</td>\n",
       "      <td>-0.036038</td>\n",
       "      <td>0.034309</td>\n",
       "      <td>0.022692</td>\n",
       "      <td>-0.009362</td>\n",
       "    </tr>\n",
       "    <tr>\n",
       "      <th>4</th>\n",
       "      <td>0.005383</td>\n",
       "      <td>-0.044642</td>\n",
       "      <td>-0.036385</td>\n",
       "      <td>0.021872</td>\n",
       "      <td>0.003935</td>\n",
       "      <td>0.015596</td>\n",
       "      <td>0.008142</td>\n",
       "      <td>-0.002592</td>\n",
       "      <td>-0.031991</td>\n",
       "      <td>-0.046641</td>\n",
       "    </tr>\n",
       "  </tbody>\n",
       "</table>\n",
       "</div>"
      ],
      "text/plain": [
       "          0         1         2         3         4         5         6  \\\n",
       "0  0.038076  0.050680  0.061696  0.021872 -0.044223 -0.034821 -0.043401   \n",
       "1 -0.001882 -0.044642 -0.051474 -0.026328 -0.008449 -0.019163  0.074412   \n",
       "2  0.085299  0.050680  0.044451 -0.005671 -0.045599 -0.034194 -0.032356   \n",
       "3 -0.089063 -0.044642 -0.011595 -0.036656  0.012191  0.024991 -0.036038   \n",
       "4  0.005383 -0.044642 -0.036385  0.021872  0.003935  0.015596  0.008142   \n",
       "\n",
       "          7         8         9  \n",
       "0 -0.002592  0.019908 -0.017646  \n",
       "1 -0.039493 -0.068330 -0.092204  \n",
       "2 -0.002592  0.002864 -0.025930  \n",
       "3  0.034309  0.022692 -0.009362  \n",
       "4 -0.002592 -0.031991 -0.046641  "
      ]
     },
     "execution_count": 20,
     "metadata": {},
     "output_type": "execute_result"
    }
   ],
   "source": [
    "df = pd.DataFrame(diabetes.data )\n",
    "df.head()"
   ]
  },
  {
   "cell_type": "code",
   "execution_count": null,
   "metadata": {
    "collapsed": true
   },
   "outputs": [],
   "source": [
    "def step_gradient(b_current,m_current,points,learningRate):\n",
    "    b_gradient=0\n",
    "    m_gradient=0\n",
    "    N=len(points)\n",
    "    for i in range(0,N):\n",
    "        x=points[i,0 : -1]\n",
    "        y=points[i,1]\n",
    "        b_gradient += -(2/N)*(y-(m_current*x+b_current))\n",
    "        for j in range()\n",
    "        m_gradient += -(2/N)*(y-(m_current*x+b_current))*x\n",
    "    new_m = m_current -(learningRate*m_gradient)\n",
    "    new_b = b_current -(learningRate*b_gradient)\n",
    "    return [new_b,new_m]\n"
   ]
  },
  {
   "cell_type": "code",
   "execution_count": null,
   "metadata": {
    "collapsed": true
   },
   "outputs": [],
   "source": []
  },
  {
   "cell_type": "code",
   "execution_count": null,
   "metadata": {
    "collapsed": true
   },
   "outputs": [],
   "source": []
  },
  {
   "cell_type": "code",
   "execution_count": null,
   "metadata": {
    "collapsed": true
   },
   "outputs": [],
   "source": []
  }
 ],
 "metadata": {
  "kernelspec": {
   "display_name": "Python 3",
   "language": "python",
   "name": "python3"
  },
  "language_info": {
   "codemirror_mode": {
    "name": "ipython",
    "version": 3
   },
   "file_extension": ".py",
   "mimetype": "text/x-python",
   "name": "python",
   "nbconvert_exporter": "python",
   "pygments_lexer": "ipython3",
   "version": "3.6.2"
  }
 },
 "nbformat": 4,
 "nbformat_minor": 2
}
