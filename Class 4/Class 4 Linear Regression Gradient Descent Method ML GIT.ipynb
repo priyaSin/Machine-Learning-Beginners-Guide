{
 "cells": [
  {
   "cell_type": "code",
   "execution_count": 72,
   "metadata": {
    "collapsed": true
   },
   "outputs": [],
   "source": [
    "import numpy as np\n",
    "import matplotlib.pyplot as plt\n",
    "import random"
   ]
  },
  {
   "cell_type": "markdown",
   "metadata": {},
   "source": [
    "### Consider below a curve for Cost Function vs m or b (Only for understanding)\n",
    "<img src=\"download.png\">"
   ]
  },
  {
   "cell_type": "markdown",
   "metadata": {},
   "source": [
    "### GRADIENT DESCENT\n",
    "Here we do not differentiate and find value of m and b as in the last case because as the number of features \n",
    "(x1,x2,x3....xn) increases, finding the value of m and b becomes complex.\n",
    "<br>So in gradient descent we try to each the minimum value of the cost function by descending below\n",
    "<br>In the above graph we are considering <br>**CF=(summation((yActual-(mx+b)^2))/N\n",
    "<br>Here m and b constitutes weights. So in linearRegression for the equation of n variables we have n+1 weights\n",
    "<br>The Process works as:\n",
    "1. Finding the gradient or the slope of at the given m and b, to know the slope,more is the slope more fall we can       achieve without Overshooting.\n",
    "2. Finding the value of new m and b using:\n",
    "    <br>**new_m = m_current -(learningRate\\*m_gradient)**\n",
    "    <br>**new_b = b_current -(learningRate\\*b_gradient)**\n",
    "    <br>learning rate is the step length to which we have to fall\n",
    "3. For new m and b,we do the same thing again for a num of iterations to reach the min value of cost function.\n",
    "\n",
    "<br>Reaching the min value depends on two factors:\n",
    "1. Number of iterations\n",
    "2. Value of cost function doesnt change much with iteration\n"
   ]
  },
  {
   "cell_type": "code",
   "execution_count": 73,
   "metadata": {
    "collapsed": true
   },
   "outputs": [],
   "source": [
    "#Finding the step gradient or del(E)/del(m) and del(E)/del(b) for finding new m and b\n",
    "def step_gradient(b_current,m_current,points,learningRate):\n",
    "    #taking initial values for m and b\n",
    "    b_gradient=0\n",
    "    m_gradient=0\n",
    "    N=len(points)\n",
    "    for i in range(0,N): #This for loop is for the submission sign present in the formula\n",
    "        x=points[i,0]\n",
    "        y=points[i,1]\n",
    "        b_gradient += -(2/N)*(y-(m_current*x+b_current))\n",
    "        m_gradient += -(2/N)*(y-(m_current*x+b_current))*x\n",
    "    new_m = m_current -(learningRate*m_gradient)\n",
    "    new_b = b_current -(learningRate*b_gradient)\n",
    "    return [new_b,new_m]\n"
   ]
  },
  {
   "cell_type": "code",
   "execution_count": 74,
   "metadata": {
    "collapsed": true
   },
   "outputs": [],
   "source": [
    "# Finding the predicted values for x test that is y predict\n",
    "def predict(x,b,m):\n",
    "    y_pred=m*x+b\n",
    "    return y_pred"
   ]
  },
  {
   "cell_type": "code",
   "execution_count": 118,
   "metadata": {
    "collapsed": true
   },
   "outputs": [],
   "source": [
    "#Here finding m and b for a number of iterations and descending the graph\n",
    "def gradient_descent_runner(points,starting_b,starting_m,learningRate,num_iterations):\n",
    "    #points= np.genfromtxt(\"data.csv\",delimiter=\",\")#points is a 2 d array with x and y\n",
    "    b=starting_b\n",
    "    m=starting_m\n",
    "    #making 2 1D array from slicing,required for plotiing later\n",
    "    y_initial=points[:,1]\n",
    "    x_initial=points[:,0]\n",
    "    costList = [] #For storing cost at a given iteration\n",
    "    costMList = [] #For storing the ith iteration with the corresponding cost for plotting\n",
    "    for i in range(num_iterations):\n",
    "        b,m=step_gradient(b,m,points,learningRate)\n",
    "#The if block is for showing the two plots, One is line of fit plot and another is costfunction plot changing with iterations\n",
    "        if i%2==0:\n",
    "            y_pred=predict(x_initial,b,m)\n",
    "            costList.append (cost_function(m , b, points))\n",
    "            costMList.append (m)\n",
    "            plt.scatter(x_initial,y_initial)\n",
    "            plt.plot(x_initial,y_pred)\n",
    "            plt.show()\n",
    "    print(\"Plot for cost function vs m\")\n",
    "    plt.scatter(costMList , costList)\n",
    "    plt.plot(costMList , costList)\n",
    "    plt.show()\n",
    "    return [m,b]    "
   ]
  },
  {
   "cell_type": "code",
   "execution_count": 119,
   "metadata": {
    "collapsed": true
   },
   "outputs": [],
   "source": [
    "def cost_function(m,b,points):\n",
    "    totalCost=0\n",
    "    for i in range(len(points)):\n",
    "        x=points[i,0]\n",
    "        y=points[i,1]\n",
    "        totalCost +=(y-(m*x+b))**2\n",
    "    return totalCost/len(points)    "
   ]
  },
  {
   "cell_type": "code",
   "execution_count": 120,
   "metadata": {
    "collapsed": true
   },
   "outputs": [],
   "source": [
    "def run(points):\n",
    "    learningRate=0.0001\n",
    "    initial_b=0\n",
    "    initial_m=0\n",
    "    num_iterations=10\n",
    "    print(\"Initial cost Function \" , cost_function(initial_m,initial_b,points))\n",
    "    final_m,final_b=gradient_descent_runner(points,initial_b,initial_m,learningRate,num_iterations)\n",
    "    print (\"Minimized cost function\" , cost_function(final_m,final_b,points))\n",
    "    return final_b,final_m #returning as have to use to calculate Ypredict"
   ]
  },
  {
   "cell_type": "markdown",
   "metadata": {
    "collapsed": true
   },
   "source": [
    "\n"
   ]
  },
  {
   "cell_type": "code",
   "execution_count": 121,
   "metadata": {},
   "outputs": [
    {
     "name": "stdout",
     "output_type": "stream",
     "text": [
      "Initial cost Function  5565.10783448\n"
     ]
    },
    {
     "data": {
      "image/png": "[encoded data removed]",
      "text/plain": [
       "<matplotlib.figure.Figure at 0x11799ce80>"
      ]
     },
     "metadata": {},
     "output_type": "display_data"
    },
    {
     "data": {
      "image/png": "[encoded data removed]",
      "text/plain": [
       "<matplotlib.figure.Figure at 0x10e213cc0>"
      ]
     },
     "metadata": {},
     "output_type": "display_data"
    },
    {
     "data": {
      "image/png": "[encoded data removed]",
      "text/plain": [
       "<matplotlib.figure.Figure at 0x11791b2e8>"
      ]
     },
     "metadata": {},
     "output_type": "display_data"
    },
    {
     "data": {
      "image/png": "[encoded data removed]",
      "text/plain": [
       "<matplotlib.figure.Figure at 0x1179227f0>"
      ]
     },
     "metadata": {},
     "output_type": "display_data"
    },
    {
     "data": {
      "image/png": "[encoded data removed]",
      "text/plain": [
       "<matplotlib.figure.Figure at 0x110b9eba8>"
      ]
     },
     "metadata": {},
     "output_type": "display_data"
    },
    {
     "name": "stdout",
     "output_type": "stream",
     "text": [
      "Plot for cost function vs m\n"
     ]
    },
    {
     "data": {
      "image/png": "[encoded data removed]",
      "text/plain": [
       "<matplotlib.figure.Figure at 0x1106bdc50>"
      ]
     },
     "metadata": {},
     "output_type": "display_data"
    },
    {
     "name": "stdout",
     "output_type": "stream",
     "text": [
      "Minimized cost function 112.655851815\n",
      "final_m 1.47741737555 final_ b 0.0296393478747\n"
     ]
    }
   ],
   "source": [
    "points= np.genfromtxt(\"data.csv\",delimiter=\",\")\n",
    "b , m = run(points)\n",
    "print(\"final_m\" , m , \"final_ b\" , b)"
   ]
  },
  {
   "cell_type": "markdown",
   "metadata": {},
   "source": [
    "### Compare the values of m and b of inbuilt Linear Regression and Linear Regrssion implemented by us (for one column of iris as x and iris.target as y)"
   ]
  },
  {
   "cell_type": "code",
   "execution_count": 122,
   "metadata": {
    "scrolled": true
   },
   "outputs": [],
   "source": [
    "from sklearn import datasets\n",
    "from sklearn.metrics import confusion_matrix \n",
    "from sklearn.metrics import classification_report\n",
    "from sklearn.linear_model import LinearRegression\n",
    "from sklearn import cross_validation as cv"
   ]
  },
  {
   "cell_type": "code",
   "execution_count": 123,
   "metadata": {
    "collapsed": true
   },
   "outputs": [],
   "source": [
    "iris= datasets.load_iris()"
   ]
  },
  {
   "cell_type": "code",
   "execution_count": 124,
   "metadata": {},
   "outputs": [
    {
     "data": {
      "text/plain": [
       "numpy.ndarray"
      ]
     },
     "execution_count": 124,
     "metadata": {},
     "output_type": "execute_result"
    }
   ],
   "source": [
    "type(iris.data)"
   ]
  },
  {
   "cell_type": "code",
   "execution_count": 166,
   "metadata": {},
   "outputs": [],
   "source": [
    "x = iris.data[0: , 0:1]"
   ]
  },
  {
   "cell_type": "code",
   "execution_count": 167,
   "metadata": {},
   "outputs": [],
   "source": [
    "y = iris.target"
   ]
  },
  {
   "cell_type": "code",
   "execution_count": 168,
   "metadata": {
    "collapsed": true
   },
   "outputs": [],
   "source": [
    "X_Train,X_Test,Y_Train,Y_Test= cv.train_test_split(x,y,test_size=0.2)"
   ]
  },
  {
   "cell_type": "code",
   "execution_count": 169,
   "metadata": {
    "collapsed": true
   },
   "outputs": [],
   "source": [
    "clf=LinearRegression()"
   ]
  },
  {
   "cell_type": "code",
   "execution_count": 170,
   "metadata": {},
   "outputs": [
    {
     "data": {
      "text/plain": [
       "LinearRegression(copy_X=True, fit_intercept=True, n_jobs=1, normalize=False)"
      ]
     },
     "execution_count": 170,
     "metadata": {},
     "output_type": "execute_result"
    }
   ],
   "source": [
    "clf.fit(X_Train,Y_Train)"
   ]
  },
  {
   "cell_type": "code",
   "execution_count": 171,
   "metadata": {},
   "outputs": [
    {
     "name": "stdout",
     "output_type": "stream",
     "text": [
      " m -  [ 0.81509486]\n",
      " b -  -3.79398415773\n"
     ]
    }
   ],
   "source": [
    "Y_pred=clf.predict(X_Test).astype(int) \n",
    "#.astype(int) is required as Ypred by default has tha type float and Y-Test is an int type\n",
    "#Y_Test\n",
    "print(\" m - \" , clf.coef_)\n",
    "print(\" b - \" , clf.intercept_)"
   ]
  },
  {
   "cell_type": "code",
   "execution_count": 174,
   "metadata": {},
   "outputs": [
    {
     "name": "stdout",
     "output_type": "stream",
     "text": [
      "Initial cost Function  1.66666666667\n"
     ]
    },
    {
     "data": {
      "image/png": "[encoded data removed]",
      "text/plain": [
       "<matplotlib.figure.Figure at 0x117bb6be0>"
      ]
     },
     "metadata": {},
     "output_type": "display_data"
    },
    {
     "data": {
      "image/png": "[encoded data removed]",
      "text/plain": [
       "<matplotlib.figure.Figure at 0x1178daf60>"
      ]
     },
     "metadata": {},
     "output_type": "display_data"
    },
    {
     "data": {
      "image/png": "[encoded data removed]",
      "text/plain": [
       "<matplotlib.figure.Figure at 0x117991208>"
      ]
     },
     "metadata": {},
     "output_type": "display_data"
    },
    {
     "data": {
      "image/png": "[encoded data removed]",
      "text/plain": [
       "<matplotlib.figure.Figure at 0x117ef3898>"
      ]
     },
     "metadata": {},
     "output_type": "display_data"
    },
    {
     "data": {
      "image/png": "[encoded data removed]",
      "text/plain": [
       "<matplotlib.figure.Figure at 0x1101a7c18>"
      ]
     },
     "metadata": {},
     "output_type": "display_data"
    },
    {
     "name": "stdout",
     "output_type": "stream",
     "text": [
      "Plot for cost function vs m\n"
     ]
    },
    {
     "data": {
      "image/png": "[encoded data removed]",
      "text/plain": [
       "<matplotlib.figure.Figure at 0x117e3b978>"
      ]
     },
     "metadata": {},
     "output_type": "display_data"
    },
    {
     "name": "stdout",
     "output_type": "stream",
     "text": [
      "Minimized cost function 1.51116873339\n",
      "final_m 0.0123391924394 final_ b 0.00193249103747\n"
     ]
    }
   ],
   "source": [
    "#Creating a points numpy array for our fit function by combining x and y\n",
    "x = iris.data[0:, 0:1]\n",
    "#print(x)\n",
    "#x = x.ravel() #converting n d array to 1 d array\n",
    "y = y.astype(float)\n",
    "#print(y.shape)\n",
    "y = y.reshape((150,1))\n",
    "#print(y)\n",
    "points = np.concatenate((x,y), axis =1)\n",
    "points[0:10]\n",
    "b , m = run(points)\n",
    "print(\"final_m\" , m , \"final_ b\" , b)"
   ]
  },
  {
   "cell_type": "code",
   "execution_count": 173,
   "metadata": {},
   "outputs": [
    {
     "data": {
      "text/plain": [
       "array([[9, 6, 3],\n",
       "       [0, 3, 5],\n",
       "       [0, 0, 4]])"
      ]
     },
     "execution_count": 173,
     "metadata": {},
     "output_type": "execute_result"
    }
   ],
   "source": [
    "confusion_matrix(Y_pred,Y_Test) "
   ]
  },
  {
   "cell_type": "markdown",
   "metadata": {},
   "source": [
    "### Confusion Matrix\n",
    "<img src=\"confusion_matrix.png\">"
   ]
  },
  {
   "cell_type": "code",
   "execution_count": 159,
   "metadata": {},
   "outputs": [
    {
     "name": "stdout",
     "output_type": "stream",
     "text": [
      "             precision    recall  f1-score   support\n",
      "\n",
      "          0       0.64      1.00      0.78         7\n",
      "          1       0.57      0.67      0.62        12\n",
      "          2       1.00      0.45      0.62        11\n",
      "\n",
      "avg / total       0.74      0.67      0.66        30\n",
      "\n"
     ]
    }
   ],
   "source": [
    "print(classification_report(Y_Test,Y_pred))"
   ]
  },
  {
   "cell_type": "markdown",
   "metadata": {},
   "source": [
    "Better appraoch than above used approach:\n",
    "1. Stochastic Gradient Descent- Learning Rate Changes According to Change in the value of th cost function\n",
    "   Means that as we are oing down the curve the step jumped is also decreasing\n",
    "   In the above code update:\n",
    "2. MINI-BATCH GRADIENT DESCENT (MB-GD)\n",
    "3. ADAM OPTIMISER"
   ]
  },
  {
   "cell_type": "markdown",
   "metadata": {},
   "source": [
    "<br>Confusion Matrix for C1 C2 C3..Cn classifer\n",
    "<br>     C1 C2 C3 C4\n",
    " <br>  C1\n",
    "<br>   C2\n",
    "<br>   C3\n",
    " <br>  C4\n",
    "<br>For every classifier,calculate the result against a confusion matrix to check the accuracy\n",
    "<br>A few terms to be noted:\n",
    "<br>Accuracy= (TP+TN)/Total\n",
    "<br>Sensitivity=TP/Positives\n",
    "<br>Specificity=TN/Negatives\n",
    "<br>Precision= True Positives/Total positives told by classifier\n",
    "         =TP/(TP+FP)\n",
    "<br>Recall= TP/(TP+FN)\n",
    "<br>TP=True Positives\n",
    "<br>FN=False Negatives\n",
    "<br>FP=False positives\n",
    "<br>TN=True Negatives\n"
   ]
  },
  {
   "cell_type": "markdown",
   "metadata": {},
   "source": [
    "Three Methods for dividing the data for testing and training purposes\n",
    "1. HoldOut(Fastest)=Keeping a part of data randomly with ourselves and traning the machine with tha rest of the data\n",
    "2. Cross Validation= (K parameter) The data set is divided into k **exclusive** parts and keeping a part say D1 for testing and traning the machine on the rest of the data. Then keeping D2  for testing and training with the rest.\n",
    "<br>This is the practical approach as all the data gets tested over the machine.\n",
    "<br>The final score for training and testing is the mean of all the scores of the loop\n",
    "3. BootStrap= In this methods k stes are made but they arent mutually exclusive"
   ]
  },
  {
   "cell_type": "markdown",
   "metadata": {
    "collapsed": true
   },
   "source": [
    "#### READ ABOUT\n",
    "1. Strasified Cross Validation\n",
    "2. Hold one out\n",
    "3. Classification Model \n",
    "4. Regression Model"
   ]
  },
  {
   "cell_type": "code",
   "execution_count": 48,
   "metadata": {
    "collapsed": true
   },
   "outputs": [],
   "source": [
    "from sklearn.model_selection import cross_val_score\n",
    "from sklearn.svm import SVC\n",
    "#iris dataset is classification model and hence applying SVC "
   ]
  },
  {
   "cell_type": "code",
   "execution_count": 49,
   "metadata": {
    "collapsed": true
   },
   "outputs": [],
   "source": [
    "clf=SVC()\n",
    "clfR=LinearRegression()"
   ]
  },
  {
   "cell_type": "code",
   "execution_count": 50,
   "metadata": {},
   "outputs": [
    {
     "data": {
      "text/plain": [
       "0.32288342759973732"
      ]
     },
     "execution_count": 50,
     "metadata": {},
     "output_type": "execute_result"
    }
   ],
   "source": [
    "score=cross_val_score(clfR,iris.data,iris.target,cv=5)\n",
    "score.mean()"
   ]
  },
  {
   "cell_type": "code",
   "execution_count": 51,
   "metadata": {
    "collapsed": true
   },
   "outputs": [],
   "source": [
    "scores=cross_val_score(clf,iris.data,iris.target,cv=5)\n"
   ]
  },
  {
   "cell_type": "code",
   "execution_count": 52,
   "metadata": {},
   "outputs": [
    {
     "data": {
      "text/plain": [
       "array([ 0.96666667,  1.        ,  0.96666667,  0.96666667,  1.        ])"
      ]
     },
     "execution_count": 52,
     "metadata": {},
     "output_type": "execute_result"
    }
   ],
   "source": [
    "scores"
   ]
  },
  {
   "cell_type": "code",
   "execution_count": 53,
   "metadata": {},
   "outputs": [
    {
     "data": {
      "text/plain": [
       "0.98000000000000009"
      ]
     },
     "execution_count": 53,
     "metadata": {},
     "output_type": "execute_result"
    }
   ],
   "source": [
    "scores.mean()"
   ]
  },
  {
   "cell_type": "code",
   "execution_count": 54,
   "metadata": {
    "collapsed": true
   },
   "outputs": [],
   "source": [
    "#Plotting the curve?????"
   ]
  },
  {
   "cell_type": "markdown",
   "metadata": {},
   "source": [
    "### For colouring the graph with different colors"
   ]
  },
  {
   "cell_type": "code",
   "execution_count": 5,
   "metadata": {},
   "outputs": [
    {
     "data": {
      "image/png": "[encoded data removed]",
      "text/plain": [
       "<matplotlib.figure.Figure at 0x10c587748>"
      ]
     },
     "metadata": {},
     "output_type": "display_data"
    }
   ],
   "source": [
    "x=[1,2,3,4,5,6,7,8,9]\n",
    "y1=[2,4,6,8,10,12,14,16,18]\n",
    "y2 = [3,5,3,5,2,3,4,5,6]\n",
    "colors=['b', 'g', 'r', 'c', 'm', 'y', 'k', 'w']\n",
    "plt.scatter(x,y1,color=random.choice(colors))\n",
    "plt.plot(x,y1,color=random.choice(colors))\n",
    "plt.plot(x,y2,color=random.choice(colors))\n",
    "plt.show()\n"
   ]
  },
  {
   "cell_type": "markdown",
   "metadata": {
    "collapsed": true
   },
   "source": [
    "### Compare m and b values like above for Diabetes dataset as done for Iris datset"
   ]
  },
  {
   "cell_type": "code",
   "execution_count": null,
   "metadata": {
    "collapsed": true
   },
   "outputs": [],
   "source": [
    "#Writing a step gradient fucntion for n features(m1, m2 , m3, ......mn)"
   ]
  },
  {
   "cell_type": "code",
   "execution_count": 175,
   "metadata": {
    "collapsed": true
   },
   "outputs": [],
   "source": [
    " def step_gradient(m_current,points,learningRate):\n",
    "    #taking initial values for m and b\n",
    "    m = np.array([0 for i in range(0,4)])\n",
    "    N=len(points)\n",
    "    for i in range(0,N): #This for loop is for the submission sign present in the formula\n",
    "        x=points[i,0:4]\n",
    "        y=points[i,4]\n",
    "        for j in range(0,4):\n",
    "            s += m[j]*x[j]\n",
    "        for j in range(0,4):\n",
    "            m[j] += -(2/N)*(y-s)*x[i][j]\n",
    "    new_m = m_current -(learningRate*m)\n",
    "    return new_m"
   ]
  },
  {
   "cell_type": "code",
   "execution_count": 176,
   "metadata": {
    "collapsed": true
   },
   "outputs": [],
   "source": [
    "def predict(x,m):\n",
    "    y_pred = np.array([])\n",
    "    for i in range(len(x)):\n",
    "        for j in range(len(m)):\n",
    "            y_pred[i] += m[i][j]*x[i][j]\n",
    "    return y_pred"
   ]
  },
  {
   "cell_type": "code",
   "execution_count": null,
   "metadata": {
    "collapsed": true
   },
   "outputs": [],
   "source": [
    "def gradient_descent_runner(points,starting_m,learningRate,num_iterations):\n",
    "    m=starting_m\n",
    "    costList = [] #For storing cost at a given iteration\n",
    "    costMList = [] #For storing the ith iteration with the corresponding cost for plotting\n",
    "    for i in range(num_iterations):\n",
    "        b,m=step_gradient(b,m,points,learningRate)\n",
    "#The if block is for showing the plot,costfunction plot changing with m\n",
    "        if i%2==0:\n",
    "            y_pred=predict(x_initial,b,m)\n",
    "            costList.append (cost_function(m , b, points))\n",
    "            costMList.append (m)\n",
    "            plt.scatter(x_initial,y_initial)\n",
    "            plt.plot(x_initial,y_pred)\n",
    "            plt.show()\n",
    "    print(\"Plot for cost function vs m\")\n",
    "    plt.scatter(costMList , costList)\n",
    "    plt.plot(costMList , costList)\n",
    "    plt.show()\n",
    "    return [m,b]    "
   ]
  }
 ],
 "metadata": {
  "kernelspec": {
   "display_name": "Python 3",
   "language": "python",
   "name": "python3"
  },
  "language_info": {
   "codemirror_mode": {
    "name": "ipython",
    "version": 3
   },
   "file_extension": ".py",
   "mimetype": "text/x-python",
   "name": "python",
   "nbconvert_exporter": "python",
   "pygments_lexer": "ipython3",
   "version": "3.6.2"
  }
 },
 "nbformat": 4,
 "nbformat_minor": 2
}
